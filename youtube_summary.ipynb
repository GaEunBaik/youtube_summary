{
 "cells": [
  {
   "cell_type": "code",
   "execution_count": 1,
   "id": "97d46cb2-7429-4308-9ab7-73af6f59f2e2",
   "metadata": {},
   "outputs": [
    {
     "name": "stdout",
     "output_type": "stream",
     "text": [
      "Collecting youtube-transcript-api\n",
      "  Downloading youtube_transcript_api-1.0.3-py3-none-any.whl (2.2 MB)\n",
      "Collecting transformers\n",
      "  Downloading transformers-4.51.1-py3-none-any.whl (10.4 MB)\n",
      "Collecting torch\n",
      "  Downloading torch-2.6.0-cp39-cp39-win_amd64.whl (204.1 MB)\n",
      "Requirement already satisfied: requests in c:\\users\\administrator\\anaconda3\\lib\\site-packages (from youtube-transcript-api) (2.27.1)\n",
      "Requirement already satisfied: defusedxml<0.8.0,>=0.7.1 in c:\\users\\administrator\\anaconda3\\lib\\site-packages (from youtube-transcript-api) (0.7.1)\n",
      "Requirement already satisfied: packaging>=20.0 in c:\\users\\administrator\\anaconda3\\lib\\site-packages (from transformers) (21.3)\n",
      "Requirement already satisfied: regex!=2019.12.17 in c:\\users\\administrator\\anaconda3\\lib\\site-packages (from transformers) (2022.3.15)\n",
      "Requirement already satisfied: filelock in c:\\users\\administrator\\anaconda3\\lib\\site-packages (from transformers) (3.6.0)\n",
      "Collecting tokenizers<0.22,>=0.21\n",
      "  Downloading tokenizers-0.21.1-cp39-abi3-win_amd64.whl (2.4 MB)\n",
      "Requirement already satisfied: pyyaml>=5.1 in c:\\users\\administrator\\anaconda3\\lib\\site-packages (from transformers) (6.0)\n",
      "Collecting safetensors>=0.4.3\n",
      "  Downloading safetensors-0.5.3-cp38-abi3-win_amd64.whl (308 kB)\n",
      "Requirement already satisfied: tqdm>=4.27 in c:\\users\\administrator\\anaconda3\\lib\\site-packages (from transformers) (4.64.0)\n",
      "Requirement already satisfied: numpy>=1.17 in c:\\users\\administrator\\anaconda3\\lib\\site-packages (from transformers) (1.21.5)\n",
      "Collecting huggingface-hub<1.0,>=0.30.0\n",
      "  Downloading huggingface_hub-0.30.2-py3-none-any.whl (481 kB)\n",
      "Requirement already satisfied: jinja2 in c:\\users\\administrator\\anaconda3\\lib\\site-packages (from torch) (2.11.3)\n",
      "Collecting sympy==1.13.1\n",
      "  Downloading sympy-1.13.1-py3-none-any.whl (6.2 MB)\n",
      "Collecting typing-extensions>=4.10.0\n",
      "  Downloading typing_extensions-4.13.1-py3-none-any.whl (45 kB)\n",
      "Requirement already satisfied: fsspec in c:\\users\\administrator\\anaconda3\\lib\\site-packages (from torch) (2022.2.0)\n",
      "Requirement already satisfied: networkx in c:\\users\\administrator\\anaconda3\\lib\\site-packages (from torch) (2.7.1)\n",
      "Requirement already satisfied: mpmath<1.4,>=1.1.0 in c:\\users\\administrator\\anaconda3\\lib\\site-packages (from sympy==1.13.1->torch) (1.2.1)\n",
      "Collecting fsspec\n",
      "  Downloading fsspec-2025.3.2-py3-none-any.whl (194 kB)\n",
      "Requirement already satisfied: pyparsing!=3.0.5,>=2.0.2 in c:\\users\\administrator\\anaconda3\\lib\\site-packages (from packaging>=20.0->transformers) (3.0.4)\n",
      "Requirement already satisfied: colorama in c:\\users\\administrator\\anaconda3\\lib\\site-packages (from tqdm>=4.27->transformers) (0.4.4)\n",
      "Requirement already satisfied: MarkupSafe>=0.23 in c:\\users\\administrator\\anaconda3\\lib\\site-packages (from jinja2->torch) (2.0.1)\n",
      "Requirement already satisfied: charset-normalizer~=2.0.0 in c:\\users\\administrator\\anaconda3\\lib\\site-packages (from requests->youtube-transcript-api) (2.0.4)\n",
      "Requirement already satisfied: idna<4,>=2.5 in c:\\users\\administrator\\anaconda3\\lib\\site-packages (from requests->youtube-transcript-api) (3.3)\n",
      "Requirement already satisfied: certifi>=2017.4.17 in c:\\users\\administrator\\anaconda3\\lib\\site-packages (from requests->youtube-transcript-api) (2021.10.8)\n",
      "Requirement already satisfied: urllib3<1.27,>=1.21.1 in c:\\users\\administrator\\anaconda3\\lib\\site-packages (from requests->youtube-transcript-api) (1.26.9)\n",
      "Installing collected packages: typing-extensions, fsspec, huggingface-hub, tokenizers, sympy, safetensors, youtube-transcript-api, transformers, torch\n",
      "  Attempting uninstall: typing-extensions\n",
      "    Found existing installation: typing-extensions 4.1.1\n",
      "    Uninstalling typing-extensions-4.1.1:\n",
      "      Successfully uninstalled typing-extensions-4.1.1\n",
      "  Attempting uninstall: fsspec\n",
      "    Found existing installation: fsspec 2022.2.0\n",
      "    Uninstalling fsspec-2022.2.0:\n",
      "      Successfully uninstalled fsspec-2022.2.0\n",
      "  Attempting uninstall: sympy\n",
      "    Found existing installation: sympy 1.10.1\n",
      "    Uninstalling sympy-1.10.1:\n",
      "      Successfully uninstalled sympy-1.10.1\n",
      "Successfully installed fsspec-2025.3.2 huggingface-hub-0.30.2 safetensors-0.5.3 sympy-1.13.1 tokenizers-0.21.1 torch-2.6.0 transformers-4.51.1 typing-extensions-4.13.1 youtube-transcript-api-1.0.3\n"
     ]
    }
   ],
   "source": [
    "# !pip install youtube-transcript-api transformers torch\n",
    "import sys\n",
    "!{sys.executable} -m pip install youtube-transcript-api transformers torch"
   ]
  },
  {
   "cell_type": "code",
   "execution_count": 2,
   "id": "3ea90322-6835-4eaf-b31c-176e8e38fd3b",
   "metadata": {},
   "outputs": [
    {
     "name": "stdout",
     "output_type": "stream",
     "text": [
      "Collecting pytube"
     ]
    }
   ],
   "source": [
    "# !pip install pytube\n",
    "import sys\n",
    "!{sys.executable} -m pip install pytube"
   ]
  },
  {
   "cell_type": "code",
   "execution_count": 4,
   "id": "48948a20-c64a-43da-8aba-2d3dcbeb8092",
   "metadata": {},
   "outputs": [
    {
     "name": "stdout",
     "output_type": "stream",
     "text": [
      "Requirement already satisfied: beautifulsoup4 in c:\\users\\administrator\\anaconda3\\lib\\site-packages (4.11.1)\n",
      "Requirement already satisfied: requests in c:\\users\\administrator\\anaconda3\\lib\\site-packages (2.27.1)\n",
      "Requirement already satisfied: soupsieve>1.2 in c:\\users\\administrator\\anaconda3\\lib\\site-packages (from beautifulsoup4) (2.3.1)\n",
      "Requirement already satisfied: urllib3<1.27,>=1.21.1 in c:\\users\\administrator\\anaconda3\\lib\\site-packages (from requests) (1.26.9)\n",
      "Requirement already satisfied: idna<4,>=2.5 in c:\\users\\administrator\\anaconda3\\lib\\site-packages (from requests) (3.3)\n",
      "Requirement already satisfied: charset-normalizer~=2.0.0 in c:\\users\\administrator\\anaconda3\\lib\\site-packages (from requests) (2.0.4)\n",
      "Requirement already satisfied: certifi>=2017.4.17 in c:\\users\\administrator\\anaconda3\\lib\\site-packages (from requests) (2021.10.8)\n"
     ]
    }
   ],
   "source": [
    "!pip install beautifulsoup4 requests"
   ]
  },
  {
   "cell_type": "code",
   "execution_count": 6,
   "id": "cb21c292-1ca6-4a0a-a7f9-799233e2b972",
   "metadata": {},
   "outputs": [
    {
     "name": "stdout",
     "output_type": "stream",
     "text": [
      "[1] 영상 ID 추출\n",
      "[2] 영상 제목 가져오는 중...\n",
      "🎬 정제된 URL: https://www.youtube.com/watch?v=U8kW7KNrSuk\n",
      " → 제목: ✨타로카드로 보는  “놀랍고도 예상치 못한 기회” #타로\n",
      "[3] 자막 가져오는 중...\n",
      "[3-1] 자막 문장 수: 943줄\n",
      "[4] 총 자막 길이: 16954자\n",
      "[5] KoBART 모델 불러오는 중...\n"
     ]
    },
    {
     "data": {
      "application/vnd.jupyter.widget-view+json": {
       "model_id": "f47d115a11554ecb86f18876b446edfe",
       "version_major": 2,
       "version_minor": 0
      },
      "text/plain": [
       "tokenizer_config.json:   0%|          | 0.00/295 [00:00<?, ?B/s]"
      ]
     },
     "metadata": {},
     "output_type": "display_data"
    },
    {
     "data": {
      "application/vnd.jupyter.widget-view+json": {
       "model_id": "03f18d9205b8496cb663a03a92d25cad",
       "version_major": 2,
       "version_minor": 0
      },
      "text/plain": [
       "tokenizer.json:   0%|          | 0.00/682k [00:00<?, ?B/s]"
      ]
     },
     "metadata": {},
     "output_type": "display_data"
    },
    {
     "data": {
      "application/vnd.jupyter.widget-view+json": {
       "model_id": "bfda2ea8d9294283962dc89d59d94214",
       "version_major": 2,
       "version_minor": 0
      },
      "text/plain": [
       "special_tokens_map.json:   0%|          | 0.00/109 [00:00<?, ?B/s]"
      ]
     },
     "metadata": {},
     "output_type": "display_data"
    },
    {
     "data": {
      "application/vnd.jupyter.widget-view+json": {
       "model_id": "fed2fd3bd1744a79bc4841768fea46bd",
       "version_major": 2,
       "version_minor": 0
      },
      "text/plain": [
       "config.json:   0%|          | 0.00/1.20k [00:00<?, ?B/s]"
      ]
     },
     "metadata": {},
     "output_type": "display_data"
    },
    {
     "name": "stderr",
     "output_type": "stream",
     "text": [
      "You passed along `num_labels=3` with an incompatible id to label map: {'0': 'NEGATIVE', '1': 'POSITIVE'}. The number of labels will be overwritten to 2.\n"
     ]
    },
    {
     "data": {
      "application/vnd.jupyter.widget-view+json": {
       "model_id": "dd420abc95124a08bc8afd42f146fa5b",
       "version_major": 2,
       "version_minor": 0
      },
      "text/plain": [
       "pytorch_model.bin:   0%|          | 0.00/496M [00:00<?, ?B/s]"
      ]
     },
     "metadata": {},
     "output_type": "display_data"
    },
    {
     "name": "stdout",
     "output_type": "stream",
     "text": [
      "[6] 자막 요약 중...\n",
      " → Chunk 1/22 요약 중...\n"
     ]
    },
    {
     "data": {
      "application/vnd.jupyter.widget-view+json": {
       "model_id": "2b85ad507308458797e1596af9b656d9",
       "version_major": 2,
       "version_minor": 0
      },
      "text/plain": [
       "model.safetensors:   0%|          | 0.00/496M [00:00<?, ?B/s]"
      ]
     },
     "metadata": {},
     "output_type": "display_data"
    },
    {
     "name": "stdout",
     "output_type": "stream",
     "text": [
      " → Chunk 2/22 요약 중...\n",
      " → Chunk 3/22 요약 중...\n",
      " → Chunk 4/22 요약 중...\n",
      " → Chunk 5/22 요약 중...\n",
      " → Chunk 6/22 요약 중...\n",
      " → Chunk 7/22 요약 중...\n",
      " → Chunk 8/22 요약 중...\n",
      " → Chunk 9/22 요약 중...\n",
      " → Chunk 10/22 요약 중...\n",
      " → Chunk 11/22 요약 중...\n",
      " → Chunk 12/22 요약 중...\n",
      " → Chunk 13/22 요약 중...\n",
      " → Chunk 14/22 요약 중...\n",
      " → Chunk 15/22 요약 중...\n",
      " → Chunk 16/22 요약 중...\n",
      " → Chunk 17/22 요약 중...\n",
      " → Chunk 18/22 요약 중...\n",
      " → Chunk 19/22 요약 중...\n",
      " → Chunk 20/22 요약 중...\n",
      " → Chunk 21/22 요약 중...\n",
      " → Chunk 22/22 요약 중...\n",
      "\n",
      "📄 요약 결과가 저장되었습니다: D:/pythondata/youtube\\✨타로카드로 보는  “놀랍고도 예상치 못한 기회” #타로.txt\n",
      "\n",
      "💡 요약 결과:\n",
      "오늘은 놀랍도 예상치 못한 기회에 대한 주제로 리딩을 준비했는데 1번 카드를 선택하신 분들은 혼자만의 시간을 즐기고 혼자만의 그 노력과 능력으로 무엇인가를 이뤄내는 분들로 보여지는데 이번만큼은 여러분들이 사람들의 도움을 기꺼이 받아들이게 된다면 커다란 성취를 얻을 수 있을 것이다.\n",
      "여러분들이 실행뿐만 아니라 도움의 손길까지 있게 되다 보니까 작은 일로 오히려 남들의 도움을 통해 큰 성과를 이루게 되지 않을까 이렇게 보여지고 있다.\n",
      "퀸 오브 펜타클 킹 오브 펜타클이 함께 나와 있는 걸로 봐서는 여러분들에게 도움의 손길을 줬기 때문에 여러분들은 혼자만의 것이 아니고 베풀고 나눌 수 있게 되는 그런 마음을 가질 수 있게 된다고 이야기하고 있다.\n",
      "이 스브 완드 카드가 나와 있는 걸로 봐서는 혼자만의 노력이 아니고 함께 이루어낸 공동의 노력의 결과이다라고 이야기를 해 줄 수 있고 함께 이루어낸 공동의 그런 어떤 노력의 결과이다라고도 보여지고 있다.\n",
      "인내심의 카드는 여러분들이 한 가지에 집중하면서 굉장히 긴장했었다면 이제 그 긴장에서 벗어나게 될 것이다라고 얘기를 하고 있어 어쩌면 이 인내심의 결과가 여러분들에게는이 꽃이 피는 풍요로움의 어떤 풍성한 물질적인 부분과 사람을 얻게 되는 그런 풍요로움을 선물받게 된다라고도 보여지고 있다.\n",
      "사물과 상황을 사랑으로 보기다 기쁨으로 보기다 기쁨으로 보기다 하는 등 여러분이 일을 하는 과정 자체가 오로지 결과만을 중시했기 때문에 오히려 더 높은 성과를 얻게 되는게 여러분들이 얻게 되는 기회입니다\n",
      "퀸오브 완드 카드 황제 카드 역방향 카드 역방향 쓰리 오브 소드 카드가 나와있는데 이 기회를 받을 때 퀸오브 완드 카드 황제 카드 역방향 카드가 나와있다.\n",
      "황제 카드가 역방향으로 나와 있다면 여러분들이 기존에 고수해 오던 것들을 바꾸는 것이기 때문에 여러분들이 기존에 고수해 오던 것들을 바꾸는 것이기 때문에 여러분들이 기존에 고수해 오던 것들을 내려놓는 것이기 때문에 여러분들을 힘들게 할 수도 있지만 오히려 여러분들이 새롭게 바꿔 먹은이 마음 때문에 더욱더 일에 매진할 수 있게 되고 더 새로운 아이디어를 낼 수 있게 되는 그런 모습으로 변모하게 될 것이다.\n",
      "이 기회의 결과 투 오브 소드 카드 역방향 세븐 오브 펜타클 카드 역방향 카드 역방향 카드 역방향 카드 역방향 카드 역방향 카드 역방향 카드 역방향 카드 역방향 카드 역방향 카드 역방향 카드 역방향 카드 역방향 카드가 나와 있다.\n",
      "이 두번 펜타클이 역방향으로 나와 있다면 여러분들이 노력하고 함께 에너지를 쏟은 결과가 더 빠르게 여러분들을 찾아오게 된다라는 걸 의미하고 7번 펜타클이 역방향으로 나와 있다면 여러분들이 원하는 것 이상의 결과가 아주 빠르게 여러분들을 찾아오게 된다라는 걸 의미한다.\n",
      "2번 카드를 선택하신 분들은 이제 여러분들이 지금까지 일에 대해서 느꼈던 관념과는 전혀 다른 관점으로 그 일을 사랑하게 되지 않을까 이렇게 보여지고 있다.\n",
      "선환이 돼서 건강하게 우리 몸을 보살펴 주는 것처럼 건강하게 우리 몸을 보살펴 주는 것처럼 여러분의 삶이 순환의 기회가 찾아오게 된다 이렇게 보여주고 있어 여러분들에게 새로운 기회가 찾아오게 될 것이다.\n",
      "8번 컵 카드 역방향 데빌 카드 역방향 카드가 나와 있어 여러분들이 이 기회를 받는 모습 자체가 굉장히 큰 행복이다라고 하는 마음으로 받을 것이다라고 얘기를 하고 있어 여러분들은 온 에너지를 쏟아야 되겠다\n",
      "킹 오브 완드 카드, 포브 완드 카드, 나인 오브 소드 카드, 4 오브 완드 카드, 킹 오브 완드 카드, 포브 완드 카드, 킹 오브 완드 카드 등이 나와 있다.\n",
      "6번 차크라 행동의 카드가 나와 있는데, 6번 차크라는 여러 가지 의미가 있지만 새로운 시작에 대한 기회가 올 것이라고 짐작하고 있었던 분도 계실 것 같아요.\n",
      "6번 차크라와 함께 나온 6번 차크라와 함께 나온 걸로 봐서는 이미 여러분이 원하는 것에 대해서 큰 그림을 그릴 수 있는 여러분의 어떤 직관과 능력이 여러분들이 행동하고 또 여러분들의 에너지를 쏟는데 열정을 다하고 그 결과를 얻게 되는 것이다라고 오라클 메시지가 전했다.\n",
      "내가 같이 있다고 생각하는 목표 내가 생각하는 것 원하는 것 좋아하는 것 거기에 집중하게 되는 것을 의미하고 있어 집중함으로 인해 결과를 얻게 되는게이 예상하지 못한 기회를 통해서 얻게 되는 결과물이다\n",
      "이 킹 오브 소드도 명확하게 여러분들이 올바른 길을 가고 있다라는 것을 분명하게 알기를 바란다고 카드들이 이야기를 해주고 있어 여러분들이 올바른 길을 가고 있다라는 것을 분명하게 알기를 바란다고 카드들이 이야기하고 있다.\n",
      "이 두에 대한 결과 역방향 5번 소드 카드 역방향 카드 역방향 카드 역방향 카드 역방향 카드 역방향 카드 역방향 카드 역방향 카드 역방향 카드 역방향 카드 역방향 카드 역방향 카드 역방향 카드 역방향 카드 역방향 카드 역방향 카드 역방향 카드 역방향 카드 역방향 카드 역방향 카드 역방향 카드 역방향 카드 역방향 카드 역방향 카드 역방향 카드 역방향 카드 역방향 카드 역방향 카드 역방향 카드 역방향 카드 역방향 카드 역방향 카드 역방향 카드 역방향 카드 역방향 카드 역방향 카드 역방향 카드 역방향 카드 역방향 카드 역방향 카드 역방향 카드\n",
      "토 오브 펜타클 카드 역방향 교환 카드가 나와 있는데, 이 결과를 보게 되면 여러분들이 의심을 내려놓는 순간 여러분들의 일은 성장하게 될 것이다.\n",
      "오라클 메시지는 여러분이 어떤 어 눈을 의식하고 또 여러분의 꿈을 비웃는 사람들이 있어서 자기 의심을 버리지 못한다면 결국은 그것이 여러분에게 꿈을 이루지 못하게 되는 장애물이 될 것이다라고 이야기를 해주고 있다.\n",
      "단 여러분 마음속에서 의심이 내려나지는 한 분명 현실로 나타날 것이기 때문에 믿고 그 길을가 주세요라고 이야기를 해 주어 여러분들이 분명 적극적인 행동을 취할 것이라고 확신합니다\n"
     ]
    }
   ],
   "source": [
    "from youtube_transcript_api import YouTubeTranscriptApi\n",
    "from transformers import PreTrainedTokenizerFast, BartForConditionalGeneration\n",
    "import requests\n",
    "from bs4 import BeautifulSoup\n",
    "import re\n",
    "import torch\n",
    "import textwrap\n",
    "import os\n",
    "\n",
    "# 파일 이름에서 쓸 수 없는 문자 제거\n",
    "def sanitize_filename(name):\n",
    "    return re.sub(r'[\\\\/*?:\"<>|]', \"\", name)\n",
    "\n",
    "# 유튜브 영상 ID 추출\n",
    "def extract_video_id(url):\n",
    "    match = re.search(r\"(?:v=|\\/)([0-9A-Za-z_-]{11})\", url)\n",
    "    if match:\n",
    "        return match.group(1)\n",
    "    else:\n",
    "        raise ValueError(\"유효한 유튜브 URL이 아닙니다.\")\n",
    "\n",
    "# 유튜브 영상 제목 가져오기 (requests + BeautifulSoup)\n",
    "def get_video_title(url):\n",
    "    video_id = extract_video_id(url)\n",
    "    clean_url = f\"https://www.youtube.com/watch?v={video_id}\"\n",
    "    print(f\"🎬 정제된 URL: {clean_url}\")\n",
    "\n",
    "    try:\n",
    "        response = requests.get(clean_url, timeout=10)\n",
    "        response.raise_for_status()\n",
    "\n",
    "        soup = BeautifulSoup(response.text, \"html.parser\")\n",
    "        raw_title = soup.title.string if soup.title else None\n",
    "        if not raw_title:\n",
    "            raise ValueError(\"title 태그 없음\")\n",
    "\n",
    "        # 유튜브 제목은 \"영상 제목 - YouTube\" 형태\n",
    "        cleaned = raw_title.replace(\"- YouTube\", \"\").strip()\n",
    "        return sanitize_filename(cleaned)\n",
    "    except Exception as e:\n",
    "        print(f\"⚠️ 영상 제목을 불러오지 못했습니다. 오류: {e}\")\n",
    "        return f\"제목없음_{video_id}\"\n",
    "\n",
    "# 자막 가져오기\n",
    "def get_korean_transcript(video_id):\n",
    "    transcript_list = YouTubeTranscriptApi.list_transcripts(video_id)\n",
    "    for transcript in transcript_list:\n",
    "        if transcript.language_code.startswith(\"ko\"):\n",
    "            return transcript.fetch()\n",
    "    for transcript in transcript_list:\n",
    "        if transcript.is_translatable:\n",
    "            try:\n",
    "                return transcript.translate('ko').fetch()\n",
    "            except Exception:\n",
    "                continue\n",
    "    raise ValueError(\"한국어 자막 또는 번역 가능한 자막을 찾을 수 없습니다.\")\n",
    "\n",
    "# 자막 병합\n",
    "def merge_transcript(transcript):\n",
    "    merged = []\n",
    "    for entry in transcript:\n",
    "        try:\n",
    "            merged.append(entry['text'])  # dict 타입\n",
    "        except (TypeError, KeyError):\n",
    "            try:\n",
    "                merged.append(entry.text)  # 객체 타입\n",
    "            except AttributeError:\n",
    "                merged.append(str(entry))  # fallback\n",
    "    return \" \".join(merged)\n",
    "\n",
    "# KoBART 요약\n",
    "def summarize_kobart(text, tokenizer, model, max_input=1024):\n",
    "    inputs = tokenizer.encode(text, return_tensors='pt', max_length=max_input, truncation=True)\n",
    "    summary_ids = model.generate(inputs, max_length=256, min_length=30, length_penalty=2.0, num_beams=4, early_stopping=True)\n",
    "    return tokenizer.decode(summary_ids[0], skip_special_tokens=True)\n",
    "\n",
    "# 전체 프로세스\n",
    "def summarize_youtube_video_korean(url, output_dir=\"D:/pythondata/youtube\"):\n",
    "    print(\"[1] 영상 ID 추출\")\n",
    "    video_id = extract_video_id(url)\n",
    "\n",
    "    print(\"[2] 영상 제목 가져오는 중...\")\n",
    "    video_title = get_video_title(url)\n",
    "    print(f\" → 제목: {video_title}\")\n",
    "\n",
    "    output_path = os.path.join(output_dir, f\"{video_title}.txt\")\n",
    "\n",
    "    print(\"[3] 자막 가져오는 중...\")\n",
    "    transcript = get_korean_transcript(video_id)\n",
    "    print(f\"[3-1] 자막 문장 수: {len(transcript)}줄\")\n",
    "\n",
    "    full_text = merge_transcript(transcript)\n",
    "    print(f\"[4] 총 자막 길이: {len(full_text)}자\")\n",
    "\n",
    "    print(\"[5] KoBART 모델 불러오는 중...\")\n",
    "    tokenizer = PreTrainedTokenizerFast.from_pretrained(\"digit82/kobart-summarization\")\n",
    "    model = BartForConditionalGeneration.from_pretrained(\"digit82/kobart-summarization\")\n",
    "\n",
    "    print(\"[6] 자막 요약 중...\")\n",
    "    wrapped = textwrap.wrap(full_text, 800)\n",
    "    summary_list = []\n",
    "    for i, chunk in enumerate(wrapped):\n",
    "        print(f\" → Chunk {i+1}/{len(wrapped)} 요약 중...\")\n",
    "        summary = summarize_kobart(chunk, tokenizer, model)\n",
    "        summary_list.append(summary)\n",
    "\n",
    "    final_summary = \"\\n\".join(summary_list)\n",
    "\n",
    "    os.makedirs(output_dir, exist_ok=True)\n",
    "    with open(output_path, \"w\", encoding=\"utf-8\") as f:\n",
    "        f.write(final_summary)\n",
    "\n",
    "    print(f\"\\n📄 요약 결과가 저장되었습니다: {output_path}\")\n",
    "    return final_summary\n",
    "\n",
    "# 실행 예시\n",
    "if __name__ == \"__main__\":\n",
    "    youtube_url = \"https://youtu.be/U8kW7KNrSuk?si=Jcq-_T3TuZ3CY33R&t=1563\"\n",
    "    try:\n",
    "        summary = summarize_youtube_video_korean(youtube_url)\n",
    "        print(\"\\n💡 요약 결과:\")\n",
    "        print(summary)\n",
    "    except Exception as e:\n",
    "        print(\"오류 발생:\", str(e))"
   ]
  },
  {
   "cell_type": "code",
   "execution_count": null,
   "id": "fa2a2422-49b5-45c3-ab5f-d112b785ce77",
   "metadata": {},
   "outputs": [],
   "source": []
  },
  {
   "cell_type": "code",
   "execution_count": null,
   "id": "45000907-46b2-444e-bc99-cdab4369ff36",
   "metadata": {},
   "outputs": [],
   "source": []
  },
  {
   "cell_type": "code",
   "execution_count": null,
   "id": "8ceb9b14-fc6d-4572-8951-cbd1c5e5be25",
   "metadata": {},
   "outputs": [],
   "source": []
  }
 ],
 "metadata": {
  "kernelspec": {
   "display_name": "Python 3 (ipykernel)",
   "language": "python",
   "name": "python3"
  },
  "language_info": {
   "codemirror_mode": {
    "name": "ipython",
    "version": 3
   },
   "file_extension": ".py",
   "mimetype": "text/x-python",
   "name": "python",
   "nbconvert_exporter": "python",
   "pygments_lexer": "ipython3",
   "version": "3.9.12"
  }
 },
 "nbformat": 4,
 "nbformat_minor": 5
}
